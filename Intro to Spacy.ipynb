{
  "nbformat": 4,
  "nbformat_minor": 0,
  "metadata": {
    "colab": {
      "provenance": [],
      "authorship_tag": "ABX9TyPfSUAfxMv9MDs/hGHxokyj",
      "include_colab_link": true
    },
    "kernelspec": {
      "name": "python3",
      "display_name": "Python 3"
    },
    "language_info": {
      "name": "python"
    }
  },
  "cells": [
    {
      "cell_type": "markdown",
      "metadata": {
        "id": "view-in-github",
        "colab_type": "text"
      },
      "source": [
        "<a href=\"https://colab.research.google.com/github/danavanwyk/Machine-Learning/blob/main/Intro%20to%20Spacy.ipynb\" target=\"_parent\"><img src=\"https://colab.research.google.com/assets/colab-badge.svg\" alt=\"Open In Colab\"/></a>"
      ]
    },
    {
      "cell_type": "markdown",
      "source": [
        "Importing Spacy and assigning it a variable name to ensure ease of use throughout our process. \n"
      ],
      "metadata": {
        "id": "mHcF9spGDvwT"
      }
    },
    {
      "cell_type": "code",
      "execution_count": 3,
      "metadata": {
        "id": "TKUh3KkK9KwY"
      },
      "outputs": [],
      "source": [
        "import spacy\n",
        "\n",
        "nlp = spacy.load('en_core_web_sm')"
      ]
    },
    {
      "cell_type": "markdown",
      "source": [
        "We will be applying, Tokenisation, Lemmatisation and then entity recognition Using the spacy english model. We have imported some \"Garden path sentences\" fro: https://www.apartmenttherapy.com/garden-sentences-262915 and assigned each a recognizeable variable name. "
      ],
      "metadata": {
        "id": "AayxE5wUAFf2"
      }
    },
    {
      "cell_type": "code",
      "source": [
        "old_man_boat = \"The old man the boat.\"\n",
        "soldiers_house = \"The complex houses married and single soldiers and their families.\"\n",
        "horse_barn = \"The horse raced past, the barn fell.\"\n",
        "florist = \"The florist sent the flowers was pleased.\"\n",
        "cotton_clothing = \"The cotton clothing is made of grows in Mississippi.\"\n",
        "sour_ocean = \"The sour drink from the ocean.\""
      ],
      "metadata": {
        "id": "Tnc2kl_-AF3B"
      },
      "execution_count": 31,
      "outputs": []
    },
    {
      "cell_type": "markdown",
      "source": [
        "All of our sentences and variable names: "
      ],
      "metadata": {
        "id": "lxsngNqlByLX"
      }
    },
    {
      "cell_type": "code",
      "source": [
        "print(f\"old_man_boat = {old_man_boat}\\nsoldiers_house = {soldiers_house}\\nhorse_barn = {horse_barn}\\nflorist = {florist}\\ncotton_clothing = {cotton_clothing}\\nsour_ocean = {sour_ocean} \")"
      ],
      "metadata": {
        "colab": {
          "base_uri": "https://localhost:8080/"
        },
        "id": "C-aN0NVRB3W0",
        "outputId": "ec6690fd-668e-4814-d084-b4968dd26e16"
      },
      "execution_count": 32,
      "outputs": [
        {
          "output_type": "stream",
          "name": "stdout",
          "text": [
            "old_man_boat = The old man the boat.\n",
            "soldiers_house = The complex houses married and single soldiers and their families.\n",
            "horse_barn = The horse raced past, the barn fell.\n",
            "florist = The florist sent the flowers was pleased.\n",
            "cotton_clothing = The cotton clothing is made of grows in Mississippi.\n",
            "sour_ocean = The sour drink from the ocean. \n"
          ]
        }
      ]
    },
    {
      "cell_type": "markdown",
      "source": [
        "Now that we have our sentences stored inside variables we can start with the process of Tokenisations: \n",
        "\n",
        "Tokenisation is a foundational step in many NLP tasks. Tokenising text is the\n",
        "process of splitting a piece of text into words, symbols, punctuation, spaces\n",
        "and other elements, thereby creating “tokens”. A naive way to do this is to\n",
        "simply split the string on white space:"
      ],
      "metadata": {
        "id": "nrGYHBJ3C6em"
      }
    },
    {
      "cell_type": "markdown",
      "source": [],
      "metadata": {
        "id": "UUVxmMOwDSdW"
      }
    },
    {
      "cell_type": "code",
      "source": [
        "#Applying Natural Language processing to each of our sentences. We stores the spacy model in the variable name nlp earlier. \n",
        "\n",
        "tok_old_man_boat = nlp(old_man_boat)\n",
        "tok_soldiers_house = nlp(soldiers_house)\n",
        "tok_horse_barn = nlp(horse_barn)\n",
        "tok_florist = nlp(florist)\n",
        "tok_cotton_clothing = nlp(cotton_clothing)\n",
        "tok_sour_ocean = nlp(sour_ocean)\n"
      ],
      "metadata": {
        "id": "jXdJKBvYDLD4"
      },
      "execution_count": 33,
      "outputs": []
    },
    {
      "cell_type": "markdown",
      "source": [
        "We will be using the split function to get each of our sentences,which are currently of data type string into lists. "
      ],
      "metadata": {
        "id": "MSODvZciEkMf"
      }
    },
    {
      "cell_type": "code",
      "source": [
        "#\"the old man the boat.\"\n",
        "tok_old_man_boat.text.split()\n"
      ],
      "metadata": {
        "colab": {
          "base_uri": "https://localhost:8080/"
        },
        "id": "4UwiEkUgGI2I",
        "outputId": "dae789c0-6525-4d43-d27a-673def149572"
      },
      "execution_count": 34,
      "outputs": [
        {
          "output_type": "execute_result",
          "data": {
            "text/plain": [
              "['The', 'old', 'man', 'the', 'boat.']"
            ]
          },
          "metadata": {},
          "execution_count": 34
        }
      ]
    },
    {
      "cell_type": "markdown",
      "source": [
        "At first glance this look fine, but if you look closer it fails to recognise the full stop and other elements of the sentence that helps us understand it structure. "
      ],
      "metadata": {
        "id": "kvUy3eSHGM3l"
      }
    },
    {
      "cell_type": "code",
      "source": [
        "[token.orth_ for token in tok_old_man_boat]"
      ],
      "metadata": {
        "colab": {
          "base_uri": "https://localhost:8080/"
        },
        "id": "c8NvLPy-Eogi",
        "outputId": "2168e40f-3efb-40fb-f36c-40cbbaf99085"
      },
      "execution_count": 24,
      "outputs": [
        {
          "output_type": "execute_result",
          "data": {
            "text/plain": [
              "['The', 'old', 'man', 'the', 'boat', '.']"
            ]
          },
          "metadata": {},
          "execution_count": 24
        }
      ]
    },
    {
      "cell_type": "markdown",
      "source": [
        "Here we access the each token’s .orth_ method, which returns a string representationof the token rather than a SpaCy token object, this might not always be desirable,but worth noting. SpaCy recognises punctuation and is able to split these punctuation tokens from word tokens"
      ],
      "metadata": {
        "id": "Pvht0Z0fGw8d"
      }
    },
    {
      "cell_type": "code",
      "source": [
        "#\"The complex houses married and single soldiers and their families.\"\n",
        "tok_soldiers_house.text.split() "
      ],
      "metadata": {
        "colab": {
          "base_uri": "https://localhost:8080/"
        },
        "id": "acb_EG8nFC-F",
        "outputId": "4c02869f-b27b-45d7-b414-2510c71bf788"
      },
      "execution_count": 35,
      "outputs": [
        {
          "output_type": "execute_result",
          "data": {
            "text/plain": [
              "['The',\n",
              " 'complex',\n",
              " 'houses',\n",
              " 'married',\n",
              " 'and',\n",
              " 'single',\n",
              " 'soldiers',\n",
              " 'and',\n",
              " 'their',\n",
              " 'families.']"
            ]
          },
          "metadata": {},
          "execution_count": 35
        }
      ]
    },
    {
      "cell_type": "code",
      "source": [
        "[token.orth_ for token in tok_soldiers_house]"
      ],
      "metadata": {
        "colab": {
          "base_uri": "https://localhost:8080/"
        },
        "id": "aQd20DPRH4V6",
        "outputId": "1236e138-2898-4037-912a-3f8c952d1b30"
      },
      "execution_count": 36,
      "outputs": [
        {
          "output_type": "execute_result",
          "data": {
            "text/plain": [
              "['The',\n",
              " 'complex',\n",
              " 'houses',\n",
              " 'married',\n",
              " 'and',\n",
              " 'single',\n",
              " 'soldiers',\n",
              " 'and',\n",
              " 'their',\n",
              " 'families',\n",
              " '.']"
            ]
          },
          "metadata": {},
          "execution_count": 36
        }
      ]
    },
    {
      "cell_type": "code",
      "source": [
        "#\"The horse raced past the barn fell.\"\n",
        "tok_horse_barn.text.split()"
      ],
      "metadata": {
        "colab": {
          "base_uri": "https://localhost:8080/"
        },
        "id": "QqAPJ0NaFIN_",
        "outputId": "64314c8e-f89f-4ff4-d251-79130a8f59f7"
      },
      "execution_count": 37,
      "outputs": [
        {
          "output_type": "execute_result",
          "data": {
            "text/plain": [
              "['The', 'horse', 'raced', 'past,', 'the', 'barn', 'fell.']"
            ]
          },
          "metadata": {},
          "execution_count": 37
        }
      ]
    },
    {
      "cell_type": "code",
      "source": [
        "{token.orth_ for token in tok_horse_barn}"
      ],
      "metadata": {
        "colab": {
          "base_uri": "https://localhost:8080/"
        },
        "id": "oyL91BsHG7ch",
        "outputId": "4f6fd222-18ca-47ee-d364-ea93cf1f9d29"
      },
      "execution_count": 38,
      "outputs": [
        {
          "output_type": "execute_result",
          "data": {
            "text/plain": [
              "{',', '.', 'The', 'barn', 'fell', 'horse', 'past', 'raced', 'the'}"
            ]
          },
          "metadata": {},
          "execution_count": 38
        }
      ]
    },
    {
      "cell_type": "code",
      "source": [
        "#\"The florist sent the flowers was pleased.\"\n",
        "tok_florist.text.split()"
      ],
      "metadata": {
        "colab": {
          "base_uri": "https://localhost:8080/"
        },
        "id": "ScwFAZWeFH7e",
        "outputId": "e6cb142d-c927-4700-9af2-ba0560007354"
      },
      "execution_count": 39,
      "outputs": [
        {
          "output_type": "execute_result",
          "data": {
            "text/plain": [
              "['The', 'florist', 'sent', 'the', 'flowers', 'was', 'pleased.']"
            ]
          },
          "metadata": {},
          "execution_count": 39
        }
      ]
    },
    {
      "cell_type": "code",
      "source": [
        "[token.orth_ for token in tok_florist]"
      ],
      "metadata": {
        "colab": {
          "base_uri": "https://localhost:8080/"
        },
        "id": "e9VcwX9jILvC",
        "outputId": "d29b196d-12e3-449e-bcc1-21b11381691d"
      },
      "execution_count": 40,
      "outputs": [
        {
          "output_type": "execute_result",
          "data": {
            "text/plain": [
              "['The', 'florist', 'sent', 'the', 'flowers', 'was', 'pleased', '.']"
            ]
          },
          "metadata": {},
          "execution_count": 40
        }
      ]
    },
    {
      "cell_type": "code",
      "source": [
        "#\"The cotton clothing is made of grows in Mississippi.\"\"\n",
        "tok_cotton_clothing.text.split()"
      ],
      "metadata": {
        "colab": {
          "base_uri": "https://localhost:8080/"
        },
        "id": "bvOUWQaPFHod",
        "outputId": "97bc3e8d-60cd-48c4-d0d6-7c32cd0076a2"
      },
      "execution_count": 41,
      "outputs": [
        {
          "output_type": "execute_result",
          "data": {
            "text/plain": [
              "['The',\n",
              " 'cotton',\n",
              " 'clothing',\n",
              " 'is',\n",
              " 'made',\n",
              " 'of',\n",
              " 'grows',\n",
              " 'in',\n",
              " 'Mississippi.']"
            ]
          },
          "metadata": {},
          "execution_count": 41
        }
      ]
    },
    {
      "cell_type": "code",
      "source": [
        "[token.orth_ for token in tok_cotton_clothing]"
      ],
      "metadata": {
        "colab": {
          "base_uri": "https://localhost:8080/"
        },
        "id": "DRPSl3jtISrR",
        "outputId": "a4ca4d03-8e20-4d09-e024-4cdecd38ed7c"
      },
      "execution_count": 44,
      "outputs": [
        {
          "output_type": "execute_result",
          "data": {
            "text/plain": [
              "['The',\n",
              " 'cotton',\n",
              " 'clothing',\n",
              " 'is',\n",
              " 'made',\n",
              " 'of',\n",
              " 'grows',\n",
              " 'in',\n",
              " 'Mississippi',\n",
              " '.']"
            ]
          },
          "metadata": {},
          "execution_count": 44
        }
      ]
    },
    {
      "cell_type": "code",
      "source": [
        "tok_sour_ocean.text.split()"
      ],
      "metadata": {
        "colab": {
          "base_uri": "https://localhost:8080/"
        },
        "id": "TXiifHfnFHc5",
        "outputId": "f5619cdb-0da1-4389-fdef-0a4d9df1a6e7"
      },
      "execution_count": 45,
      "outputs": [
        {
          "output_type": "execute_result",
          "data": {
            "text/plain": [
              "['The', 'sour', 'drink', 'from', 'the', 'ocean.']"
            ]
          },
          "metadata": {},
          "execution_count": 45
        }
      ]
    },
    {
      "cell_type": "code",
      "source": [
        "[token.orth_ for token in tok_sour_ocean]"
      ],
      "metadata": {
        "colab": {
          "base_uri": "https://localhost:8080/"
        },
        "id": "JD6bBbQ4Ifx8",
        "outputId": "09d88100-f3a3-4549-cdf8-6761fad3293f"
      },
      "execution_count": 46,
      "outputs": [
        {
          "output_type": "execute_result",
          "data": {
            "text/plain": [
              "['The', 'sour', 'drink', 'from', 'the', 'ocean', '.']"
            ]
          },
          "metadata": {},
          "execution_count": 46
        }
      ]
    },
    {
      "cell_type": "markdown",
      "source": [
        "Many of SpaCy’s token method offer both string and integer representations of processed text – methods with an underscore suffix return strings, methods without an underscore suffix return integers. For example:"
      ],
      "metadata": {
        "id": "G6DjlhdyJTMx"
      }
    },
    {
      "cell_type": "code",
      "source": [
        "print([(token, token.orth_, token.orth) for token in tok_old_man_boat])\n",
        "print([(token, token.orth_, token.orth) for token in tok_horse_barn])\n",
        "print([(token, token.orth_, token.orth) for token in tok_florist])\n",
        "print([(token, token.orth_, token.orth) for token in tok_cotton_clothing])\n",
        "print([(token, token.orth_, token.orth) for token in tok_soldiers_house])\n",
        "print([(token, token.orth_, token.orth) for token in tok_sour_ocean])\n"
      ],
      "metadata": {
        "colab": {
          "base_uri": "https://localhost:8080/"
        },
        "id": "xYNTFaKXJRoM",
        "outputId": "5605c009-22c1-4047-9f04-842f3c61882d"
      },
      "execution_count": 48,
      "outputs": [
        {
          "output_type": "stream",
          "name": "stdout",
          "text": [
            "[(The, 'The', 5059648917813135842), (old, 'old', 2483095116303079762), (man, 'man', 3104811030673030468), (the, 'the', 7425985699627899538), (boat, 'boat', 11387929873876272110), (., '.', 12646065887601541794)]\n",
            "[(The, 'The', 5059648917813135842), (horse, 'horse', 9866490340549498003), (raced, 'raced', 11985977600559752646), (past, 'past', 14080206577736366893), (,, ',', 2593208677638477497), (the, 'the', 7425985699627899538), (barn, 'barn', 1731024304121373681), (fell, 'fell', 17406646348554510309), (., '.', 12646065887601541794)]\n",
            "[(The, 'The', 5059648917813135842), (florist, 'florist', 10501838060908119271), (sent, 'sent', 16056986141218963985), (the, 'the', 7425985699627899538), (flowers, 'flowers', 2477902471846530091), (was, 'was', 9921686513378912864), (pleased, 'pleased', 4426875666208874359), (., '.', 12646065887601541794)]\n",
            "[(The, 'The', 5059648917813135842), (cotton, 'cotton', 13158503143813622304), (clothing, 'clothing', 11978358972660538478), (is, 'is', 3411606890003347522), (made, 'made', 7136294487848412980), (of, 'of', 886050111519832510), (grows, 'grows', 6115445568100627063), (in, 'in', 3002984154512732771), (Mississippi, 'Mississippi', 1946980641541756374), (., '.', 12646065887601541794)]\n",
            "[(The, 'The', 5059648917813135842), (complex, 'complex', 11125307656307208867), (houses, 'houses', 12236405033243632862), (married, 'married', 15974428657194256046), (and, 'and', 2283656566040971221), (single, 'single', 9644341664820045211), (soldiers, 'soldiers', 13157451586059593190), (and, 'and', 2283656566040971221), (their, 'their', 4244585616942201722), (families, 'families', 13150649422924114104), (., '.', 12646065887601541794)]\n",
            "[(The, 'The', 5059648917813135842), (sour, 'sour', 1437310558085749269), (drink, 'drink', 8799542030263951485), (from, 'from', 7831658034963690409), (the, 'the', 7425985699627899538), (ocean, 'ocean', 11641983324036055121), (., '.', 12646065887601541794)]\n"
          ]
        }
      ]
    },
    {
      "cell_type": "markdown",
      "source": [
        "OUTPUT:\n",
        "[(The, 'The', 5059648917813135842), (old, 'old', 2483095116303079762), (man, 'man', 3104811030673030468), (the, 'the', 7425985699627899538), (boat, 'boat', 11387929873876272110), (., '.', 12646065887601541794)]\n",
        "\n",
        "\n",
        "[(The, 'The', 5059648917813135842), (horse, 'horse', 9866490340549498003), (raced, 'raced', 11985977600559752646), (past, 'past', 14080206577736366893), (,, ',', 2593208677638477497), (the, 'the', 7425985699627899538), (barn, 'barn', 1731024304121373681), (fell, 'fell', 17406646348554510309), (., '.', 12646065887601541794)]\n",
        "\n",
        "\n",
        "[(The, 'The', 5059648917813135842), (florist, 'florist', 10501838060908119271), (sent, 'sent', 16056986141218963985), (the, 'the', 7425985699627899538), (flowers, 'flowers', 2477902471846530091), (was, 'was', 9921686513378912864), (pleased, 'pleased', 4426875666208874359), (., '.', 12646065887601541794)]\n",
        "\n",
        "\n",
        "[(The, 'The', 5059648917813135842), (cotton, 'cotton', 13158503143813622304), (clothing, 'clothing', 11978358972660538478), (is, 'is', 3411606890003347522), (made, 'made', 7136294487848412980), (of, 'of', 886050111519832510), (grows, 'grows', 6115445568100627063), (in, 'in', 3002984154512732771), (Mississippi, 'Mississippi', 1946980641541756374), (., '.', 12646065887601541794)]\n",
        "\n",
        "\n",
        "[(The, 'The', 5059648917813135842), (complex, 'complex', 11125307656307208867), (houses, 'houses', 12236405033243632862), (married, 'married', 15974428657194256046), (and, 'and', 2283656566040971221), (single, 'single', 9644341664820045211), (soldiers, 'soldiers', 13157451586059593190), (and, 'and', 2283656566040971221), (their, 'their', 4244585616942201722), (families, 'families', 13150649422924114104), (., '.', 12646065887601541794)]\n",
        "\n",
        "\n",
        "[(The, 'The', 5059648917813135842), (sour, 'sour', 1437310558085749269), (drink, 'drink', 8799542030263951485), (from, 'from', 7831658034963690409), (the, 'the', 7425985699627899538), (ocean, 'ocean', 11641983324036055121), (., '.', 12646065887601541794)]"
      ],
      "metadata": {
        "id": "0zeuj76pKFn9"
      }
    },
    {
      "cell_type": "markdown",
      "source": [
        "We can also exclude punctuatiuon and white space with the following methods included in spacy. is_punct and is_space"
      ],
      "metadata": {
        "id": "-dCebaNrMOM1"
      }
    },
    {
      "cell_type": "code",
      "source": [
        "print([token.orth_ for token in tok_old_man_boat if not token.is_punct | token.is_space ])\n",
        "print([token.orth_ for token in tok_horse_barn if not token.is_punct | token.is_space])\n",
        "print([token.orth_ for token in tok_soldiers_house if not token.is_punct | token.is_space])\n",
        "print([token.orth_ for token in tok_cotton_clothing if not token.is_punct |token.is_space])\n",
        "print([token.orth_ for token in tok_florist if not token.is_punct | token.is_space])\n",
        "print([token.orth_ for token in tok_sour_ocean if not token.is_punct | token.is_space])"
      ],
      "metadata": {
        "colab": {
          "base_uri": "https://localhost:8080/"
        },
        "id": "gcvOEKAWKErM",
        "outputId": "228f5916-03a3-4495-eea1-d866c0691efe"
      },
      "execution_count": 58,
      "outputs": [
        {
          "output_type": "stream",
          "name": "stdout",
          "text": [
            "['The', 'old', 'man', 'the', 'boat']\n",
            "['The', 'horse', 'raced', 'past', 'the', 'barn', 'fell']\n",
            "['The', 'complex', 'houses', 'married', 'and', 'single', 'soldiers', 'and', 'their', 'families']\n",
            "['The', 'cotton', 'clothing', 'is', 'made', 'of', 'grows', 'in', 'Mississippi']\n",
            "['The', 'florist', 'sent', 'the', 'flowers', 'was', 'pleased']\n",
            "['The', 'sour', 'drink', 'from', 'the', 'ocean']\n"
          ]
        }
      ]
    },
    {
      "cell_type": "markdown",
      "source": [
        "We can identify stop word with the is.stop method. Let's use a for loop to iterate through the list. \n",
        "\n",
        "We can create a simple function to call each of our garden path sentences. "
      ],
      "metadata": {
        "id": "FXNu-Q9xOWCF"
      }
    },
    {
      "cell_type": "code",
      "source": [
        "def stop_method(sentence):\n",
        "  for each_word in sentence:\n",
        "    if each_word.is_stop ==True:\n",
        "      print(each_word)\n"
      ],
      "metadata": {
        "id": "DXv4KISqQAap"
      },
      "execution_count": 71,
      "outputs": []
    },
    {
      "cell_type": "code",
      "source": [
        "stop_method(tok_old_man_boat)"
      ],
      "metadata": {
        "colab": {
          "base_uri": "https://localhost:8080/"
        },
        "id": "bh1kb73IQRsq",
        "outputId": "07332d6f-90a9-4146-afe7-864ca2458be6"
      },
      "execution_count": 73,
      "outputs": [
        {
          "output_type": "stream",
          "name": "stdout",
          "text": [
            "The\n",
            "the\n",
            "The\n",
            "from\n",
            "the\n"
          ]
        }
      ]
    },
    {
      "cell_type": "code",
      "source": [
        "stop_method(tok_soldiers_house)"
      ],
      "metadata": {
        "colab": {
          "base_uri": "https://localhost:8080/"
        },
        "id": "hKLC87pjRAeo",
        "outputId": "435e003f-896d-4a4b-86bd-f4c59bd02346"
      },
      "execution_count": 74,
      "outputs": [
        {
          "output_type": "stream",
          "name": "stdout",
          "text": [
            "The\n",
            "and\n",
            "and\n",
            "their\n"
          ]
        }
      ]
    },
    {
      "cell_type": "code",
      "source": [
        "stop_method(tok_horse_barn)"
      ],
      "metadata": {
        "colab": {
          "base_uri": "https://localhost:8080/"
        },
        "id": "KzPrMYXqRG-e",
        "outputId": "0b08b3d8-005f-4bd9-cc6b-21472034cc17"
      },
      "execution_count": 75,
      "outputs": [
        {
          "output_type": "stream",
          "name": "stdout",
          "text": [
            "The\n",
            "the\n"
          ]
        }
      ]
    },
    {
      "cell_type": "code",
      "source": [
        "stop_method(tok_sour_ocean)"
      ],
      "metadata": {
        "colab": {
          "base_uri": "https://localhost:8080/"
        },
        "id": "TfWnDSn4RLZy",
        "outputId": "aad671b9-c86d-4cfd-8b49-bdb2785251d3"
      },
      "execution_count": 77,
      "outputs": [
        {
          "output_type": "stream",
          "name": "stdout",
          "text": [
            "The\n",
            "from\n",
            "the\n"
          ]
        }
      ]
    },
    {
      "cell_type": "code",
      "source": [
        "stop_method(tok_florist)"
      ],
      "metadata": {
        "colab": {
          "base_uri": "https://localhost:8080/"
        },
        "id": "tWrMsvxNROQI",
        "outputId": "cbb6b473-ef84-4163-e3ef-3cc1bca67245"
      },
      "execution_count": 78,
      "outputs": [
        {
          "output_type": "stream",
          "name": "stdout",
          "text": [
            "The\n",
            "the\n",
            "was\n"
          ]
        }
      ]
    },
    {
      "cell_type": "markdown",
      "source": [
        "Now let's get on to Lemmatisation.  Lemmatisation is the process of reducing a word to its base form. We will be creating a simple function to be able to reus the code. \n",
        "\n",
        "Some of these might look a little strange but let's comare it to the original sentence and see what spacy is actually doing. \n"
      ],
      "metadata": {
        "id": "YQ7j2qotRe39"
      }
    },
    {
      "cell_type": "code",
      "source": [
        "def practical_lemma(sentence):\n",
        "  print(sentence)\n",
        "  print([word.lemma_ for word in sentence if not word.is_punct | word.is_space])"
      ],
      "metadata": {
        "id": "5FKQtEMFRtMU"
      },
      "execution_count": 95,
      "outputs": []
    },
    {
      "cell_type": "code",
      "source": [
        "practical_lemma(tok_old_man_boat)"
      ],
      "metadata": {
        "colab": {
          "base_uri": "https://localhost:8080/"
        },
        "id": "4o86yFZpR9Tz",
        "outputId": "48c9029b-82e6-4694-b794-4007acf999d3"
      },
      "execution_count": 96,
      "outputs": [
        {
          "output_type": "stream",
          "name": "stdout",
          "text": [
            "The old man the boat.\n",
            "['the', 'old', 'man', 'the', 'boat']\n"
          ]
        }
      ]
    },
    {
      "cell_type": "code",
      "source": [
        "practical_lemma(tok_horse_barn)"
      ],
      "metadata": {
        "colab": {
          "base_uri": "https://localhost:8080/"
        },
        "id": "mm3S_Ts-SKy3",
        "outputId": "2f9cf7f2-2d53-4f61-c67c-6ddca38dfc69"
      },
      "execution_count": 97,
      "outputs": [
        {
          "output_type": "stream",
          "name": "stdout",
          "text": [
            "The horse raced past, the barn fell.\n",
            "['the', 'horse', 'race', 'past', 'the', 'barn', 'fall']\n"
          ]
        }
      ]
    },
    {
      "cell_type": "code",
      "source": [
        "practical_lemma(tok_soldiers_house)"
      ],
      "metadata": {
        "colab": {
          "base_uri": "https://localhost:8080/"
        },
        "id": "LcNBntODSKtS",
        "outputId": "4afaaad4-4117-4e5d-ca30-b08ab4e3463e"
      },
      "execution_count": 98,
      "outputs": [
        {
          "output_type": "stream",
          "name": "stdout",
          "text": [
            "The complex houses married and single soldiers and their families.\n",
            "['the', 'complex', 'house', 'marry', 'and', 'single', 'soldier', 'and', 'their', 'family']\n"
          ]
        }
      ]
    },
    {
      "cell_type": "code",
      "source": [
        "practical_lemma(tok_sour_ocean)"
      ],
      "metadata": {
        "colab": {
          "base_uri": "https://localhost:8080/"
        },
        "id": "YFpkixl6SKfd",
        "outputId": "6259e09f-efc0-4847-8ed5-7b4af8dd9609"
      },
      "execution_count": 99,
      "outputs": [
        {
          "output_type": "stream",
          "name": "stdout",
          "text": [
            "The sour drink from the ocean.\n",
            "['the', 'sour', 'drink', 'from', 'the', 'ocean']\n"
          ]
        }
      ]
    },
    {
      "cell_type": "code",
      "source": [
        "practical_lemma(tok_florist)"
      ],
      "metadata": {
        "colab": {
          "base_uri": "https://localhost:8080/"
        },
        "id": "qEP227XVSKXJ",
        "outputId": "95e0c352-140a-44e0-e43c-e4d48070ad1e"
      },
      "execution_count": 100,
      "outputs": [
        {
          "output_type": "stream",
          "name": "stdout",
          "text": [
            "The florist sent the flowers was pleased.\n",
            "['the', 'florist', 'send', 'the', 'flower', 'be', 'pleased']\n"
          ]
        }
      ]
    },
    {
      "cell_type": "code",
      "source": [
        "practical_lemma(tok_cotton_clothing)"
      ],
      "metadata": {
        "colab": {
          "base_uri": "https://localhost:8080/"
        },
        "id": "VXX2__twSKPK",
        "outputId": "fc6f7dab-1390-42a3-8c58-82ea804ef598"
      },
      "execution_count": 101,
      "outputs": [
        {
          "output_type": "stream",
          "name": "stdout",
          "text": [
            "The cotton clothing is made of grows in Mississippi.\n",
            "['the', 'cotton', 'clothing', 'be', 'make', 'of', 'grow', 'in', 'Mississippi']\n"
          ]
        }
      ]
    },
    {
      "cell_type": "markdown",
      "source": [
        "As we can see it transforms the word to it's base form. You might wonder why this is usefull..\n",
        "\n",
        "An immediate use case is in machine learning, specifically text classification. Lemmatising the text prior to, for example, creating a“bag-of-words” avoids word duplication and, therefore, allows for the model to build a clearer picture of patterns of word usage across multiple documents."
      ],
      "metadata": {
        "id": "3SKrgDAjTVhJ"
      }
    },
    {
      "cell_type": "markdown",
      "source": [
        "Entity Recognition: This is where it start to get rea\\:ly freaky!!\n",
        "\n",
        "Spacy shows off it capabilities by classifying named entities found in a text into pre-defined categories, such as persons, places, organisations, dates,etc. spaCy uses a statistical model to classify a broad range of entities,including persons, events, works-of-art and nationalities / religions (see the documentation for the full list https://spacy.io/docs/usage/entity-recognition)."
      ],
      "metadata": {
        "id": "0Yi5J_E1Tz75"
      }
    },
    {
      "cell_type": "code",
      "source": [
        "#Same thing let's first create a simple fucntion so we are not typing out everything over and over. Although it might be good for practice to type it out..\n",
        "def ent_recog_gps(sentence):\n",
        "  print(sentence)\n",
        "  print([[(i, i.label_, i.label) for i in sentence.ents]])"
      ],
      "metadata": {
        "id": "hy0dwe8aTx_p"
      },
      "execution_count": 103,
      "outputs": []
    },
    {
      "cell_type": "code",
      "source": [
        "ent_recog_gps(tok_old_man_boat)"
      ],
      "metadata": {
        "colab": {
          "base_uri": "https://localhost:8080/"
        },
        "id": "LNr77s0DWlyk",
        "outputId": "86b7c4e4-e3a3-4968-ad2f-5bf5556fc22d"
      },
      "execution_count": 105,
      "outputs": [
        {
          "output_type": "stream",
          "name": "stdout",
          "text": [
            "The old man the boat.\n",
            "[[]]\n"
          ]
        }
      ]
    },
    {
      "cell_type": "code",
      "source": [
        "ent_recog_gps(tok_horse_barn)"
      ],
      "metadata": {
        "colab": {
          "base_uri": "https://localhost:8080/"
        },
        "id": "8a_C-LXiW5nM",
        "outputId": "f0958d0c-66f1-45a8-b355-dbeea03a1614"
      },
      "execution_count": 106,
      "outputs": [
        {
          "output_type": "stream",
          "name": "stdout",
          "text": [
            "The horse raced past, the barn fell.\n",
            "[[]]\n"
          ]
        }
      ]
    },
    {
      "cell_type": "code",
      "source": [
        "ent_recog_gps(tok_cotton_clothing)"
      ],
      "metadata": {
        "colab": {
          "base_uri": "https://localhost:8080/"
        },
        "id": "bVUwh47uXMTE",
        "outputId": "dad157cb-e7bd-4ce3-cbe6-5418f10b1737"
      },
      "execution_count": 108,
      "outputs": [
        {
          "output_type": "stream",
          "name": "stdout",
          "text": [
            "The cotton clothing is made of grows in Mississippi.\n",
            "[[(Mississippi, 'GPE', 384)]]\n"
          ]
        }
      ]
    },
    {
      "cell_type": "code",
      "source": [
        "ent_recog_gps(tok_sour_ocean)"
      ],
      "metadata": {
        "colab": {
          "base_uri": "https://localhost:8080/"
        },
        "id": "h_9RDeuFXL99",
        "outputId": "3a69dc81-84af-448c-a56f-cfe7d55a6792"
      },
      "execution_count": 109,
      "outputs": [
        {
          "output_type": "stream",
          "name": "stdout",
          "text": [
            "The sour drink from the ocean.\n",
            "[[]]\n"
          ]
        }
      ]
    },
    {
      "cell_type": "code",
      "source": [
        "ent_recog_gps(tok_florist)"
      ],
      "metadata": {
        "colab": {
          "base_uri": "https://localhost:8080/"
        },
        "id": "fPWdnPyEXLvr",
        "outputId": "b802eab7-16a9-4cd0-c805-34fc8799014b"
      },
      "execution_count": 110,
      "outputs": [
        {
          "output_type": "stream",
          "name": "stdout",
          "text": [
            "The florist sent the flowers was pleased.\n",
            "[[]]\n"
          ]
        }
      ]
    },
    {
      "cell_type": "code",
      "source": [
        "ent_recog_gps(tok_soldiers_house)"
      ],
      "metadata": {
        "colab": {
          "base_uri": "https://localhost:8080/"
        },
        "id": "7wVqINQvXLk5",
        "outputId": "d4693bf8-593a-4726-ea07-a405a36926f7"
      },
      "execution_count": 111,
      "outputs": [
        {
          "output_type": "stream",
          "name": "stdout",
          "text": [
            "The complex houses married and single soldiers and their families.\n",
            "[[]]\n"
          ]
        }
      ]
    },
    {
      "cell_type": "markdown",
      "source": [
        "As we can see here not much to recognise in these short sentences, But let's apply it to a larger sentence containing a few more recognisable entities. "
      ],
      "metadata": {
        "id": "9YSqUoq7XiSM"
      }
    },
    {
      "cell_type": "code",
      "source": [
        "deadpool = \"Wade Wilson (Ryan Reynolds) is a former Special Forces operative who now works as a mercenary. His world comes crashing down when evil scientist Ajax (Ed Skrein) tortures, disfigures and transforms him into Deadpool. The rogue experiment leaves Deadpool with accelerated healing powers and a twisted sense of humor.\"\n",
        "#tokenization\n",
        "tok_deadpool = nlp(deadpool)\n",
        "tok_deadpool.text.split()\n",
        "\n",
        "ent_recog_gps(tok_deadpool)"
      ],
      "metadata": {
        "colab": {
          "base_uri": "https://localhost:8080/"
        },
        "id": "D74XXsZtXfs5",
        "outputId": "088f9f0c-bf76-4741-8964-133b9433dfef"
      },
      "execution_count": 114,
      "outputs": [
        {
          "output_type": "stream",
          "name": "stdout",
          "text": [
            "Wade Wilson (Ryan Reynolds) is a former Special Forces operative who now works as a mercenary. His world comes crashing down when evil scientist Ajax (Ed Skrein) tortures, disfigures and transforms him into Deadpool. The rogue experiment leaves Deadpool with accelerated healing powers and a twisted sense of humor.\n",
            "[[(Wade Wilson, 'PERSON', 380), (Ryan Reynolds, 'PERSON', 380), (Ajax, 'PERSON', 380), (Ed Skrein, 'PERSON', 380), (Deadpool, 'ORG', 383), (Deadpool, 'ORG', 383)]]\n"
          ]
        }
      ]
    },
    {
      "cell_type": "markdown",
      "source": [
        "Much better:\n",
        "\n",
        "Wade Wilson (Ryan Reynolds) is a former Special Forces operative who now works as a mercenary. His world comes crashing down when evil scientist Ajax (Ed Skrein) tortures, disfigures and transforms him into Deadpool. The rogue experiment leaves Deadpool with accelerated healing powers and a twisted sense of humor.\n",
        "\n",
        "\n",
        "[[(Wade Wilson, 'PERSON', 380), (Ryan Reynolds, 'PERSON', 380), (Ajax, 'PERSON', 380), (Ed Skrein, 'PERSON', 380), (Deadpool, 'ORG', 383), (Deadpool, 'ORG', 383)]]"
      ],
      "metadata": {
        "id": "zsa8WT6KYY5a"
      }
    },
    {
      "cell_type": "code",
      "source": [],
      "metadata": {
        "id": "hLeHJhrRYYqm"
      },
      "execution_count": null,
      "outputs": []
    }
  ]
}